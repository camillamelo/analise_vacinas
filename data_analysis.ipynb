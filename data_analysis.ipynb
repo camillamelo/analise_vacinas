{
  "nbformat": 4,
  "nbformat_minor": 0,
  "metadata": {
    "colab": {
      "name": "data_analysis.ipynb",
      "provenance": [],
      "include_colab_link": true
    },
    "kernelspec": {
      "display_name": "Python 3",
      "language": "python",
      "name": "python3"
    },
    "language_info": {
      "codemirror_mode": {
        "name": "ipython",
        "version": 3
      },
      "file_extension": ".py",
      "mimetype": "text/x-python",
      "name": "python",
      "nbconvert_exporter": "python",
      "pygments_lexer": "ipython3",
      "version": "3.7.6"
    }
  },
  "cells": [
    {
      "cell_type": "markdown",
      "metadata": {
        "id": "view-in-github",
        "colab_type": "text"
      },
      "source": [
        "<a href=\"https://colab.research.google.com/github/camillamelo/analise_vacinas/blob/main/data_analysis.ipynb\" target=\"_parent\"><img src=\"https://colab.research.google.com/assets/colab-badge.svg\" alt=\"Open In Colab\"/></a>"
      ]
    },
    {
      "cell_type": "code",
      "metadata": {
        "colab": {
          "base_uri": "https://localhost:8080/"
        },
        "id": "qqxMwd7kVgbs",
        "outputId": "1493b4c6-ddb5-4076-ae1b-c1e44059f847"
      },
      "source": [
        "!pip install emoji"
      ],
      "execution_count": null,
      "outputs": [
        {
          "output_type": "stream",
          "text": [
            "Collecting emoji\n",
            "\u001b[?25l  Downloading https://files.pythonhosted.org/packages/24/fa/b3368f41b95a286f8d300e323449ab4e86b85334c2e0b477e94422b8ed0f/emoji-1.2.0-py3-none-any.whl (131kB)\n",
            "\r\u001b[K     |██▌                             | 10kB 18.2MB/s eta 0:00:01\r\u001b[K     |█████                           | 20kB 19.4MB/s eta 0:00:01\r\u001b[K     |███████▌                        | 30kB 15.6MB/s eta 0:00:01\r\u001b[K     |██████████                      | 40kB 14.1MB/s eta 0:00:01\r\u001b[K     |████████████▌                   | 51kB 7.1MB/s eta 0:00:01\r\u001b[K     |███████████████                 | 61kB 8.3MB/s eta 0:00:01\r\u001b[K     |█████████████████▌              | 71kB 8.8MB/s eta 0:00:01\r\u001b[K     |████████████████████            | 81kB 9.0MB/s eta 0:00:01\r\u001b[K     |██████████████████████▌         | 92kB 9.3MB/s eta 0:00:01\r\u001b[K     |█████████████████████████       | 102kB 7.7MB/s eta 0:00:01\r\u001b[K     |███████████████████████████▌    | 112kB 7.7MB/s eta 0:00:01\r\u001b[K     |██████████████████████████████  | 122kB 7.7MB/s eta 0:00:01\r\u001b[K     |████████████████████████████████| 133kB 7.7MB/s \n",
            "\u001b[?25hInstalling collected packages: emoji\n",
            "Successfully installed emoji-1.2.0\n"
          ],
          "name": "stdout"
        }
      ]
    },
    {
      "cell_type": "code",
      "metadata": {
        "colab": {
          "base_uri": "https://localhost:8080/"
        },
        "id": "LzYHnfdKVQyJ",
        "outputId": "99e952e9-90e6-4477-9092-e1541fbcedd5"
      },
      "source": [
        "from google.colab import drive\n",
        "drive.mount('/content/drive')"
      ],
      "execution_count": null,
      "outputs": [
        {
          "output_type": "stream",
          "text": [
            "Mounted at /content/drive\n"
          ],
          "name": "stdout"
        }
      ]
    },
    {
      "cell_type": "markdown",
      "metadata": {
        "id": "3DJDcIfP9T3w"
      },
      "source": [
        "# Nova seção"
      ]
    },
    {
      "cell_type": "code",
      "metadata": {
        "id": "s3sOAh4VVKJl"
      },
      "source": [
        "import pandas\n",
        "import nltk\n",
        "from nltk.stem import RSLPStemmer\n",
        "import re\n",
        "from sklearn.feature_extraction.text import CountVectorizer, TfidfVectorizer\n",
        "import numpy as np\n",
        "import matplotlib\n",
        "import matplotlib.pyplot as plt\n",
        "import emoji\n",
        "from datetime import datetime"
      ],
      "execution_count": null,
      "outputs": []
    },
    {
      "cell_type": "markdown",
      "metadata": {
        "id": "nhQ5zKmVEnhH"
      },
      "source": [
        "# Busca e tratamento dos textos"
      ]
    },
    {
      "cell_type": "code",
      "metadata": {
        "colab": {
          "base_uri": "https://localhost:8080/"
        },
        "id": "zpLlGaPCVKJw",
        "outputId": "1f6d86e8-80d0-4f02-d3ea-f830ba9ed1b7"
      },
      "source": [
        "nltk.download('rslp')\n",
        "nltk.download('stopwords')\n",
        "stopwords = nltk.corpus.stopwords.words('portuguese')"
      ],
      "execution_count": null,
      "outputs": [
        {
          "output_type": "stream",
          "text": [
            "[nltk_data] Downloading package rslp to /root/nltk_data...\n",
            "[nltk_data]   Unzipping stemmers/rslp.zip.\n",
            "[nltk_data] Downloading package stopwords to /root/nltk_data...\n",
            "[nltk_data]   Unzipping corpora/stopwords.zip.\n"
          ],
          "name": "stdout"
        }
      ]
    },
    {
      "cell_type": "code",
      "metadata": {
        "id": "X2_4hjUSVKJy"
      },
      "source": [
        "datapath = '/content/drive/MyDrive/Processed/tweets_vacina_classificadas.csv'"
      ],
      "execution_count": null,
      "outputs": []
    },
    {
      "cell_type": "code",
      "metadata": {
        "colab": {
          "base_uri": "https://localhost:8080/",
          "height": 510
        },
        "id": "i8BpqF__VKJz",
        "outputId": "42e6b05d-acb2-40ae-e2bd-89be4fd1120d"
      },
      "source": [
        "data = pandas.read_csv(datapath, sep=';', index_col=0)\n",
        "print('data shape:', data.shape)\n",
        "print('data columns:', data.columns.tolist())\n",
        "data.head()"
      ],
      "execution_count": null,
      "outputs": [
        {
          "output_type": "stream",
          "text": [
            "data shape: (2997, 18)\n",
            "data columns: ['conversation_id', 'date', 'time', 'timezone', 'user_id', 'tweet', 'Antivax', 'language', 'mentions', 'urls', 'replies_count', 'retweets_count', 'likes_count', 'hashtags', 'cashtags', 'link', 'quote_url', 'thumbnail']\n"
          ],
          "name": "stdout"
        },
        {
          "output_type": "execute_result",
          "data": {
            "text/html": [
              "<div>\n",
              "<style scoped>\n",
              "    .dataframe tbody tr th:only-of-type {\n",
              "        vertical-align: middle;\n",
              "    }\n",
              "\n",
              "    .dataframe tbody tr th {\n",
              "        vertical-align: top;\n",
              "    }\n",
              "\n",
              "    .dataframe thead th {\n",
              "        text-align: right;\n",
              "    }\n",
              "</style>\n",
              "<table border=\"1\" class=\"dataframe\">\n",
              "  <thead>\n",
              "    <tr style=\"text-align: right;\">\n",
              "      <th></th>\n",
              "      <th>conversation_id</th>\n",
              "      <th>date</th>\n",
              "      <th>time</th>\n",
              "      <th>timezone</th>\n",
              "      <th>user_id</th>\n",
              "      <th>tweet</th>\n",
              "      <th>Antivax</th>\n",
              "      <th>language</th>\n",
              "      <th>mentions</th>\n",
              "      <th>urls</th>\n",
              "      <th>replies_count</th>\n",
              "      <th>retweets_count</th>\n",
              "      <th>likes_count</th>\n",
              "      <th>hashtags</th>\n",
              "      <th>cashtags</th>\n",
              "      <th>link</th>\n",
              "      <th>quote_url</th>\n",
              "      <th>thumbnail</th>\n",
              "    </tr>\n",
              "    <tr>\n",
              "      <th>id</th>\n",
              "      <th></th>\n",
              "      <th></th>\n",
              "      <th></th>\n",
              "      <th></th>\n",
              "      <th></th>\n",
              "      <th></th>\n",
              "      <th></th>\n",
              "      <th></th>\n",
              "      <th></th>\n",
              "      <th></th>\n",
              "      <th></th>\n",
              "      <th></th>\n",
              "      <th></th>\n",
              "      <th></th>\n",
              "      <th></th>\n",
              "      <th></th>\n",
              "      <th></th>\n",
              "      <th></th>\n",
              "    </tr>\n",
              "  </thead>\n",
              "  <tbody>\n",
              "    <tr>\n",
              "      <th>1361465304749070000</th>\n",
              "      <td>1361365701844490000</td>\n",
              "      <td>15/02/2021</td>\n",
              "      <td>20:59:58</td>\n",
              "      <td>-300</td>\n",
              "      <td>1323426198433780000</td>\n",
              "      <td>@veramagalhaes O curioso é que o presidente nã...</td>\n",
              "      <td>1</td>\n",
              "      <td>pt</td>\n",
              "      <td>[]</td>\n",
              "      <td>[]</td>\n",
              "      <td>0</td>\n",
              "      <td>0</td>\n",
              "      <td>0</td>\n",
              "      <td>[]</td>\n",
              "      <td>[]</td>\n",
              "      <td>https://twitter.com/IramManaus/status/13614653...</td>\n",
              "      <td>NaN</td>\n",
              "      <td>NaN</td>\n",
              "    </tr>\n",
              "    <tr>\n",
              "      <th>1361465303146860000</th>\n",
              "      <td>1361465303146860000</td>\n",
              "      <td>15/02/2021</td>\n",
              "      <td>20:59:57</td>\n",
              "      <td>-300</td>\n",
              "      <td>1232025209747770000</td>\n",
              "      <td>Vejam a entrevista do diretor presidente da An...</td>\n",
              "      <td>2</td>\n",
              "      <td>pt</td>\n",
              "      <td>[]</td>\n",
              "      <td>['https://youtu.be/0xVeIOjSJ5k']</td>\n",
              "      <td>0</td>\n",
              "      <td>0</td>\n",
              "      <td>0</td>\n",
              "      <td>[]</td>\n",
              "      <td>[]</td>\n",
              "      <td>https://twitter.com/IvanVeloso3/status/1361465...</td>\n",
              "      <td>NaN</td>\n",
              "      <td>NaN</td>\n",
              "    </tr>\n",
              "    <tr>\n",
              "      <th>1361465302345740000</th>\n",
              "      <td>1361462175949340000</td>\n",
              "      <td>15/02/2021</td>\n",
              "      <td>20:59:57</td>\n",
              "      <td>-300</td>\n",
              "      <td>1208738346303970000</td>\n",
              "      <td>@UOL Já a que não tem vacina, vai gastar tudo ...</td>\n",
              "      <td>0</td>\n",
              "      <td>pt</td>\n",
              "      <td>[]</td>\n",
              "      <td>[]</td>\n",
              "      <td>0</td>\n",
              "      <td>0</td>\n",
              "      <td>4</td>\n",
              "      <td>[]</td>\n",
              "      <td>[]</td>\n",
              "      <td>https://twitter.com/Lupacapitolina2/status/136...</td>\n",
              "      <td>NaN</td>\n",
              "      <td>NaN</td>\n",
              "    </tr>\n",
              "    <tr>\n",
              "      <th>1361465298302490000</th>\n",
              "      <td>1361265434977330000</td>\n",
              "      <td>15/02/2021</td>\n",
              "      <td>20:59:56</td>\n",
              "      <td>-300</td>\n",
              "      <td>1261792440866000000</td>\n",
              "      <td>@Josecar43623014 @P6uloP7eto Outra coisa, avis...</td>\n",
              "      <td>2</td>\n",
              "      <td>pt</td>\n",
              "      <td>[]</td>\n",
              "      <td>[]</td>\n",
              "      <td>2</td>\n",
              "      <td>0</td>\n",
              "      <td>2</td>\n",
              "      <td>[]</td>\n",
              "      <td>[]</td>\n",
              "      <td>https://twitter.com/AntonyJojohn/status/136146...</td>\n",
              "      <td>NaN</td>\n",
              "      <td>NaN</td>\n",
              "    </tr>\n",
              "    <tr>\n",
              "      <th>1361465289368620000</th>\n",
              "      <td>1361465289368620000</td>\n",
              "      <td>15/02/2021</td>\n",
              "      <td>20:59:54</td>\n",
              "      <td>-300</td>\n",
              "      <td>955872635866567000</td>\n",
              "      <td>SE FOSSE ARMAS, BOLSONARO TERIA COMPRADO DE TO...</td>\n",
              "      <td>0</td>\n",
              "      <td>pt</td>\n",
              "      <td>[]</td>\n",
              "      <td>['https://g1.globo.com/bemestar/vacina/noticia...</td>\n",
              "      <td>0</td>\n",
              "      <td>1</td>\n",
              "      <td>3</td>\n",
              "      <td>[]</td>\n",
              "      <td>[]</td>\n",
              "      <td>https://twitter.com/MARCOSN63533241/status/136...</td>\n",
              "      <td>NaN</td>\n",
              "      <td>NaN</td>\n",
              "    </tr>\n",
              "  </tbody>\n",
              "</table>\n",
              "</div>"
            ],
            "text/plain": [
              "                         conversation_id        date  ... quote_url  thumbnail\n",
              "id                                                    ...                     \n",
              "1361465304749070000  1361365701844490000  15/02/2021  ...       NaN        NaN\n",
              "1361465303146860000  1361465303146860000  15/02/2021  ...       NaN        NaN\n",
              "1361465302345740000  1361462175949340000  15/02/2021  ...       NaN        NaN\n",
              "1361465298302490000  1361265434977330000  15/02/2021  ...       NaN        NaN\n",
              "1361465289368620000  1361465289368620000  15/02/2021  ...       NaN        NaN\n",
              "\n",
              "[5 rows x 18 columns]"
            ]
          },
          "metadata": {
            "tags": []
          },
          "execution_count": 6
        }
      ]
    },
    {
      "cell_type": "markdown",
      "metadata": {
        "id": "IQZunI6gEgbM"
      },
      "source": [
        "## Proporção de dados\n",
        "0 -> a favor da vacina\n",
        "\n",
        "1 -> neutro / indeciso\n",
        "\n",
        "2 -> antivacina"
      ]
    },
    {
      "cell_type": "code",
      "metadata": {
        "colab": {
          "base_uri": "https://localhost:8080/",
          "height": 292
        },
        "id": "v6Q1Uh7AVKJ0",
        "outputId": "a5220d42-36d6-4538-f85a-43452fcb559c"
      },
      "source": [
        "series = data['Antivax'].value_counts()\n",
        "ax = series.plot(kind='bar', title='Number for each sentiment')\n",
        "ax.set_xlabel('Sentiment')\n",
        "ax.set_ylabel('Count')\n",
        "plt.show()"
      ],
      "execution_count": null,
      "outputs": [
        {
          "output_type": "display_data",
          "data": {
            "image/png": "[encoded data removed]",
            "text/plain": [
              "<Figure size 432x288 with 1 Axes>"
            ]
          },
          "metadata": {
            "tags": [],
            "needs_background": "light"
          }
        }
      ]
    },
    {
      "cell_type": "code",
      "metadata": {
        "colab": {
          "base_uri": "https://localhost:8080/"
        },
        "id": "omRbRlu5VKJ1",
        "outputId": "fd518b02-618d-49d0-d021-d174b7f18e14"
      },
      "source": [
        "series"
      ],
      "execution_count": null,
      "outputs": [
        {
          "output_type": "execute_result",
          "data": {
            "text/plain": [
              "0    2017\n",
              "1     675\n",
              "2     305\n",
              "Name: Antivax, dtype: int64"
            ]
          },
          "metadata": {
            "tags": []
          },
          "execution_count": 8
        }
      ]
    },
    {
      "cell_type": "code",
      "metadata": {
        "id": "vaMAFfBFVKJ2"
      },
      "source": [
        "import unicodedata\n",
        "def normalize(data):\n",
        "  \"\"\" Normalise (normalize) unicode data in Python to remove umlauts, accents etc. \"\"\"\n",
        "  return unicodedata.normalize('NFKD', data).encode('ASCII', 'ignore')"
      ],
      "execution_count": null,
      "outputs": []
    },
    {
      "cell_type": "code",
      "metadata": {
        "id": "kuiPfzTdVKJ3"
      },
      "source": [
        "tweets_text = data.tweet.values.tolist()\n"
      ],
      "execution_count": null,
      "outputs": []
    },
    {
      "cell_type": "code",
      "metadata": {
        "id": "uKOfuSChVKJ4"
      },
      "source": [
        "stemmer_ptbr = RSLPStemmer()\n",
        "def stemming_tokenizer(str_input):\n",
        "    raw_text = emoji.demojize(str_input, language='pt', delimiters=(' ', ' '))\n",
        "    raw_text = raw_text.lower()\n",
        "    raw_text = re.sub(r'@[\\w]*', \"mencao\", raw_text) \n",
        "#    raw_text = re.sub(r'@[\\d]*', \"numero\", raw_text)\n",
        "    raw_text = re.sub(r'haha*', \"risada \", raw_text) \n",
        "    raw_text = re.sub(r'hehe*', \"risada \", raw_text) \n",
        "    raw_text = re.sub(r'hihi*', \"risada \", raw_text) \n",
        "    raw_text = re.sub(r'kk*', \"risada \", raw_text) \n",
        "    raw_text = re.sub(r'https://[\\w]*', \"link\", raw_text.replace('.', ''))\n",
        "    raw_text = re.sub(r'http://[\\w]*', \"link\", raw_text)\n",
        "    raw_text = raw_text.replace('#', '')\n",
        "    raw_text = normalize(raw_text).decode('utf-8')\n",
        "    raw_text = raw_text.replace('!', '').replace('?', '').replace(',', '').replace(')', '').replace('(', '').replace('\"', '').replace('“', '').replace('‘', '').replace('~', '').replace(':', '')\n",
        "    raw_text = raw_text.replace('[', '').replace(']', '').replace('{', '').replace('}', '').replace('|', '').replace('-', '').replace(\"'\", '').replace('#', '')\n",
        "    words = raw_text.split()\n",
        "    response = []\n",
        "    for word in words:\n",
        "        if word not in stopwords:\n",
        "            response.append(word)\n",
        "    return response"
      ],
      "execution_count": null,
      "outputs": []
    },
    {
      "cell_type": "markdown",
      "metadata": {
        "id": "x_zTkvrgFUEG"
      },
      "source": [
        "Demonstração do tokenizer"
      ]
    },
    {
      "cell_type": "code",
      "metadata": {
        "colab": {
          "base_uri": "https://localhost:8080/"
        },
        "id": "8GHXiQkjVKJ5",
        "outputId": "ead785c5-7031-4a37-f0ee-e341b99c0ad1"
      },
      "source": [
        "stemming_tokenizer('naïve café @lalala @_lalal @TR_amama @haha @HahHaa oi... http://www.a.com kkkkkkk 🤨123')"
      ],
      "execution_count": null,
      "outputs": [
        {
          "output_type": "execute_result",
          "data": {
            "text/plain": [
              "['naive',\n",
              " 'cafe',\n",
              " 'mencao',\n",
              " 'mencao',\n",
              " 'mencao',\n",
              " 'mencao',\n",
              " 'mencao',\n",
              " 'oi',\n",
              " 'link',\n",
              " 'risada',\n",
              " 'rosto_com_sobrancelha_levantada',\n",
              " '123']"
            ]
          },
          "metadata": {
            "tags": []
          },
          "execution_count": 12
        }
      ]
    },
    {
      "cell_type": "code",
      "metadata": {
        "colab": {
          "base_uri": "https://localhost:8080/"
        },
        "id": "iMQI_j_PVKJ5",
        "outputId": "5a2e4831-0464-4606-a100-4699d57f61c1"
      },
      "source": [
        "vectorizer_tfidf = TfidfVectorizer(stop_words=stopwords, tokenizer=stemming_tokenizer, max_df=0.99, min_df=0.001, max_features=1500)\n",
        "X = vectorizer_tfidf.fit_transform(tweets_text)\n",
        "vocab = np.array(vectorizer_tfidf.get_feature_names())"
      ],
      "execution_count": null,
      "outputs": [
        {
          "output_type": "stream",
          "text": [
            "/usr/local/lib/python3.7/dist-packages/sklearn/feature_extraction/text.py:385: UserWarning: Your stop_words may be inconsistent with your preprocessing. Tokenizing the stop words generated tokens ['ate', 'eramos', 'estao', 'estavamos', 'estiveramos', 'estivessemos', 'foramos', 'fossemos', 'ha', 'hao', 'houveramos', 'houverao', 'houveriamos', 'houvessemos', 'ja', 'nao', 'sao', 'sera', 'serao', 'seriamos', 'so', 'tambem', 'tera', 'terao', 'teriamos', 'tinhamos', 'tiveramos', 'tivessemos', 'voce', 'voces'] not in stop_words.\n",
            "  'stop_words.' % sorted(inconsistent))\n"
          ],
          "name": "stderr"
        }
      ]
    },
    {
      "cell_type": "markdown",
      "metadata": {
        "id": "PvGnrM-1GHSt"
      },
      "source": [
        "Foi limitado em 1500 features para evitar problemas na utilização do modelo gerado"
      ]
    },
    {
      "cell_type": "code",
      "metadata": {
        "colab": {
          "base_uri": "https://localhost:8080/"
        },
        "id": "CAYqxcb0VKJ6",
        "outputId": "7d4f7160-56d9-4a7e-d63f-235708797087"
      },
      "source": [
        "X.shape"
      ],
      "execution_count": null,
      "outputs": [
        {
          "output_type": "execute_result",
          "data": {
            "text/plain": [
              "(2997, 1500)"
            ]
          },
          "metadata": {
            "tags": []
          },
          "execution_count": 14
        }
      ]
    },
    {
      "cell_type": "code",
      "metadata": {
        "colab": {
          "base_uri": "https://localhost:8080/",
          "height": 347
        },
        "id": "ge4GlOomjukI",
        "outputId": "bba462ac-1579-4006-e976-0f4314398469"
      },
      "source": [
        "plt.figure(figsize=(12,5))\n",
        "nshow = 20\n",
        "word_count = np.asarray(X.sum(axis=0))[0]\n",
        "\n",
        "df_counts =pandas.Series(word_count)\n",
        "df_counts.index = list(vectorizer_tfidf.vocabulary_.keys())\n",
        "df_counts.sort_values().iloc[-nshow:].plot.barh(color='#333333')\n",
        "\n",
        "plt.grid()\n",
        "plt.title('Total Palavras:'+ str(word_count.shape[0]))\n",
        "plt.xlabel('# Ocorrência das palavras')"
      ],
      "execution_count": null,
      "outputs": [
        {
          "output_type": "execute_result",
          "data": {
            "text/plain": [
              "Text(0.5, 0, '# Ocorrência das palavras')"
            ]
          },
          "metadata": {
            "tags": []
          },
          "execution_count": 15
        },
        {
          "output_type": "display_data",
          "data": {
            "image/png": "[encoded data removed]",
            "text/plain": [
              "<Figure size 864x360 with 1 Axes>"
            ]
          },
          "metadata": {
            "tags": [],
            "needs_background": "light"
          }
        }
      ]
    },
    {
      "cell_type": "code",
      "metadata": {
        "colab": {
          "base_uri": "https://localhost:8080/"
        },
        "id": "Nj7gjJvKVKJ7",
        "outputId": "0b3511c4-9cd8-4187-f114-4097c2f2b7d3"
      },
      "source": [
        "y = data.Antivax\n",
        "y"
      ],
      "execution_count": null,
      "outputs": [
        {
          "output_type": "execute_result",
          "data": {
            "text/plain": [
              "id\n",
              "1361465304749070000    1\n",
              "1361465303146860000    2\n",
              "1361465302345740000    0\n",
              "1361465298302490000    2\n",
              "1361465289368620000    0\n",
              "                      ..\n",
              "1361105202951160000    0\n",
              "1361104117087830000    2\n",
              "1361104064973580000    0\n",
              "1361103241111620000    0\n",
              "1361103061071100000    0\n",
              "Name: Antivax, Length: 2997, dtype: int64"
            ]
          },
          "metadata": {
            "tags": []
          },
          "execution_count": 16
        }
      ]
    },
    {
      "cell_type": "markdown",
      "metadata": {
        "id": "ziPN29QVVKJ8"
      },
      "source": [
        "# Classificação"
      ]
    },
    {
      "cell_type": "markdown",
      "metadata": {
        "id": "-VDeyy83HEQO"
      },
      "source": [
        "## Treinamento com Random Forest"
      ]
    },
    {
      "cell_type": "code",
      "metadata": {
        "id": "i3XtwfrtVKJ8"
      },
      "source": [
        "from sklearn.model_selection import train_test_split\n",
        "X_train, X_test, y_train, y_test = train_test_split(X, y, test_size=0.33, random_state=10)"
      ],
      "execution_count": null,
      "outputs": []
    },
    {
      "cell_type": "code",
      "metadata": {
        "colab": {
          "base_uri": "https://localhost:8080/"
        },
        "id": "YtKSy_J2VKJ9",
        "outputId": "43ba3f5a-7346-47c1-abb0-5c92d4d1a051"
      },
      "source": [
        "from sklearn.ensemble import RandomForestClassifier\n",
        "m = RandomForestClassifier(n_estimators=40, min_samples_leaf=3, max_features=0.5, n_jobs=-1, oob_score=True)\n",
        "m.fit(X_train, y_train)"
      ],
      "execution_count": null,
      "outputs": [
        {
          "output_type": "execute_result",
          "data": {
            "text/plain": [
              "RandomForestClassifier(bootstrap=True, ccp_alpha=0.0, class_weight=None,\n",
              "                       criterion='gini', max_depth=None, max_features=0.5,\n",
              "                       max_leaf_nodes=None, max_samples=None,\n",
              "                       min_impurity_decrease=0.0, min_impurity_split=None,\n",
              "                       min_samples_leaf=3, min_samples_split=2,\n",
              "                       min_weight_fraction_leaf=0.0, n_estimators=40, n_jobs=-1,\n",
              "                       oob_score=True, random_state=None, verbose=0,\n",
              "                       warm_start=False)"
            ]
          },
          "metadata": {
            "tags": []
          },
          "execution_count": 18
        }
      ]
    },
    {
      "cell_type": "code",
      "metadata": {
        "id": "slYMAYXjVKJ9"
      },
      "source": [
        "predicted = m.predict(X_test)"
      ],
      "execution_count": null,
      "outputs": []
    },
    {
      "cell_type": "markdown",
      "metadata": {
        "id": "jdn9VMY5G2uD"
      },
      "source": [
        "### Palavras importantes e não importantes no modelo gerado"
      ]
    },
    {
      "cell_type": "code",
      "metadata": {
        "id": "CZHnJspHVKJ-"
      },
      "source": [
        "importances = m.feature_importances_\n",
        "sem_importancia = []\n",
        "for i,w in enumerate(importances):\n",
        "  if w == 0:\n",
        "    sem_importancia.append(vocab[i])\n",
        "#    print(vocab[i],w)"
      ],
      "execution_count": null,
      "outputs": []
    },
    {
      "cell_type": "code",
      "metadata": {
        "colab": {
          "base_uri": "https://localhost:8080/"
        },
        "id": "UuXNjSs0VKJ-",
        "outputId": "d5c80ac6-f5a7-4775-f746-3fa296546c67"
      },
      "source": [
        "importantes = []\n",
        "for i,w in enumerate(importances):\n",
        "  if w > 0:\n",
        "    importantes.append(vocab[i])\n",
        "    print(vocab[i],w)"
      ],
      "execution_count": null,
      "outputs": [
        {
          "output_type": "stream",
          "text": [
            "/ 0.00011787528816024598\n",
            "1 0.00043310323579895263\n",
            "2 0.0002730664442527852\n",
            "3 0.0002786986561153748\n",
            "30 0.0007665293277271639\n",
            "4 0.00017279882120593574\n",
            "50% 0.09719367208036286\n",
            "94% 0.0001706671958480029\n",
            "acho 0.0002693018075661079\n",
            "agora 0.0025128049720579393\n",
            "agulha 5.4441639000697295e-05\n",
            "ah 5.403029812851043e-05\n",
            "ai 0.00037387412865349785\n",
            "ainda 0.00030847734993995194\n",
            "alguem 0.0003382629831147569\n",
            "antes 0.00039397576048723045\n",
            "apenas 0.00010067615917483466\n",
            "aprovada 0.0026067432818134627\n",
            "aprovado 0.00019730148436277882\n",
            "aqui 0.00029618710514619676\n",
            "assim 0.0006171098636142828\n",
            "bandido 0.0002843373346767977\n",
            "bem 0.00014591113300833414\n",
            "bolsonaro 0.00026322013538366965\n",
            "bolsonero 0.00041450944516793124\n",
            "bom 5.725869989627238e-05\n",
            "bosta 0.00030628481619609843\n",
            "brasil 0.00018118033998700803\n",
            "brasileiro 0.00023976008027544725\n",
            "burro 3.1270400747669875e-05\n",
            "c 3.8228261826575124e-05\n",
            "cade 0.00460144438045674\n",
            "cara 2.1313450522285572e-05\n",
            "caralho 1.0668669787618438e-05\n",
            "carater 9.25853165140574e-05\n",
            "caso 1.9070716582548208e-05\n",
            "casos 0.00015501744479226874\n",
            "china 0.0011387361806233407\n",
            "chines 1.9416495797930596e-05\n",
            "chinesa 0.00033671780861774155\n",
            "cloroquina 0.00415367510761619\n",
            "cobaia 0.06868573157796351\n",
            "cobaias 0.02659796200648722\n",
            "coisas 8.445064833301602e-05\n",
            "combate 1.0813729469856444e-05\n",
            "comeca 1.386281088874051e-05\n",
            "comprar 0.00040197550712780665\n",
            "comprovacao 1.7865353379628862e-05\n",
            "comprovada 0.007286405630692212\n",
            "continua 0.0002821906561520515\n",
            "contra 5.2084170071025024e-05\n",
            "corno 0.00021219501178606497\n",
            "coronavirus 7.523086115645953e-05\n",
            "covid 0.00037401922848981784\n",
            "covid19 0.0002332689786732347\n",
            "cu 0.00025524386342661254\n",
            "cura 9.036886729976639e-05\n",
            "dados 0.00026574220929358926\n",
            "dando 1.7369951666849504e-05\n",
            "defender 0.0008626807636807565\n",
            "deixa 0.0008791978932668335\n",
            "desse 0.00010496907996613661\n",
            "deve 3.575644300360699e-05\n",
            "deveria 1.771382769721156e-05\n",
            "dia 3.28447090507741e-05\n",
            "dinheiro 0.001024072194278458\n",
            "direito 0.0002122395120101686\n",
            "disse 1.8032051887158713e-05\n",
            "ditadoria 0.0013314280386591071\n",
            "dizer 1.8523668928751284e-05\n",
            "doenca 0.00015633657796501689\n",
            "doria 0.0007464254413677362\n",
            "dorso_da_mao_com_dedo_indicador_apontando_para_a_direita 1.2890775567410726e-05\n",
            "doses 0.00030148753489762334\n",
            "duas 0.00015003059213559498\n",
            "efeito 0.00018016311631244639\n",
            "efeitos 6.8821033636067265e-06\n",
            "eficacia 0.004535755572853787\n",
            "eficaz 3.648446913408316e-05\n",
            "eficiente 3.6375395089020835e-05\n",
            "emergencial 2.996352805201874e-05\n",
            "enfia 0.0009761221115221527\n",
            "enfiar 0.0007081609497384871\n",
            "entender 6.976683930148631e-05\n",
            "entrega 6.809641636747539e-05\n",
            "espalhar 0.00029804631584067143\n",
            "esperando 0.00017933091283247503\n",
            "esperar 9.005981607677731e-05\n",
            "estao 0.0013308501340169993\n",
            "estudo 6.841001439518668e-05\n",
            "exatamente 1.8459470495457153e-05\n",
            "experimental 0.072050319183179\n",
            "falar 0.00011745209198960819\n",
            "faltando 0.0005867639887559478\n",
            "fase 0.0002253931825719385\n",
            "faz 0.00014956304189628274\n",
            "fdp 0.00043528902530874804\n",
            "fica 0.00032464140089769576\n",
            "ficar 8.817305240045873e-05\n",
            "filho 0.00016230916467249056\n",
            "franca 5.3408342251419236e-05\n",
            "gado 0.00019791325494890105\n",
            "garantia 1.400829962550439e-05\n",
            "gasolina 7.33748329942839e-05\n",
            "gastar 3.230461974091865e-05\n",
            "genocida 0.00018199958861502555\n",
            "gente 0.00039579275486877427\n",
            "governo 0.00017006832436063573\n",
            "gracas 0.00048692286336783614\n",
            "graves 0.0004581014438804692\n",
            "hipocrita 5.5397554170920536e-05\n",
            "homem 6.615395226192547e-05\n",
            "idiota 1.8433544488778762e-05\n",
            "idosos 5.9166439067900705e-05\n",
            "igual 0.00012027888278745593\n",
            "importa 1.9262040609824253e-05\n",
            "imprensa 0.0016987537840802672\n",
            "imunizacao 3.228680035444088e-05\n",
            "incompetencia 7.538880306258426e-05\n",
            "inves 1.841443992715713e-05\n",
            "investir 0.000537009757452644\n",
            "israel 0.001692614960522911\n",
            "ivermectina 0.0005406639835196248\n",
            "ja 0.0006991924936387941\n",
            "jair 0.0002388156603386568\n",
            "la 0.00016399786471300984\n",
            "lembrando 0.00029054611180953134\n",
            "liberar 5.067212409134499e-05\n",
            "lixo 0.00022477681460398693\n",
            "louco 5.0464429919096556e-05\n",
            "mae 1.8242669727246587e-05\n",
            "maior 0.00011431125966045623\n",
            "mal 1.3447475843629585e-05\n",
            "mascara 0.00018134171296905024\n",
            "matar 0.0006336573135397152\n",
            "maximo 1.7156338441934444e-05\n",
            "media 3.917187946521116e-05\n",
            "medicamentos 1.3961703691289603e-05\n",
            "medico 1.7868170981216635e-05\n",
            "meio 1.5858865362905238e-05\n",
            "melhor 8.017703346207017e-05\n",
            "mencao 0.006245937224375641\n",
            "merda 4.943303582596523e-05\n",
            "mes 7.39576752704881e-05\n",
            "midia 9.485258294647604e-05\n",
            "mil 0.0001377882866324025\n",
            "milhares 4.67676787265957e-06\n",
            "mito 8.328895804318984e-05\n",
            "morrendo 0.0010097688257356449\n",
            "morrer 9.113776180239029e-05\n",
            "morto 1.4352103284256157e-05\n",
            "mundo 0.0004747901231376275\n",
            "n 0.0007750270541962061\n",
            "nada 0.037538326679660276\n",
            "nao 0.007291681306356247\n",
            "nariz 1.7782568505301652e-05\n",
            "nasal 0.0385760453781094\n",
            "negociando 0.00016725621544989318\n",
            "nenhuma 0.0011461243040402943\n",
            "nessa 0.00011036973604715541\n",
            "nesse 0.00010611950279760621\n",
            "noticia 9.074609824076068e-05\n",
            "numero 0.0021383814378112564\n",
            "nunca 0.00010152212920904632\n",
            "obitos 7.293319283459225e-05\n",
            "obvio 1.1156445058754217e-05\n",
            "onde 6.435033106248448e-06\n",
            "outra 0.00014174391746153987\n",
            "p 4.196866387917619e-05\n",
            "paga 0.0001025294814977347\n",
            "pais 0.00018104410364418798\n",
            "pandemia 0.0008701995389503323\n",
            "patriota 0.00011098823672466155\n",
            "paulo 6.81506174807073e-05\n",
            "pegar 1.9068123824904985e-05\n",
            "pensar 0.00016545571561538299\n",
            "pessoa 0.0003896967599299242\n",
            "pessoas 0.0007762410247778573\n",
            "pfizer 0.046751197344573205\n",
            "placebo 0.00030749962007493067\n",
            "pode 0.000371525785859161\n",
            "podem 0.0002876674884567045\n",
            "pois 0.00015153868306526987\n",
            "politicos 0.000292149878034478\n",
            "populacao 0.0013313076320113624\n",
            "porem 1.5357412368424976e-05\n",
            "porque 0.00015251804740312828\n",
            "porra 0.00011625061829363306\n",
            "povo 9.316569090915825e-05\n",
            "pq 0.00020260549384382812\n",
            "pra 0.000385050783436718\n",
            "precisa 0.0003810248860152283\n",
            "precoce 0.0017009640287873897\n",
            "presidente 6.325802474786845e-05\n",
            "prevencao 0.0012245216466844097\n",
            "prioridade 0.0002994628104593807\n",
            "pro 0.0002956554589207583\n",
            "problema 4.435863900388049e-05\n",
            "puta 0.0004653497732551701\n",
            "q 0.0003905765504104623\n",
            "qualquer 0.00011566337190108712\n",
            "quantos 0.00019327860665591015\n",
            "quer 0.00010256322065204672\n",
            "queremos 0.025764712078505152\n",
            "querer 0.0005635686921540756\n",
            "queria 1.798049734344063e-05\n",
            "questao 0.00014906190056610674\n",
            "rabo 0.00012404148881958035\n",
            "ratos 0.000871326793556616\n",
            "razao 1.88464922054749e-05\n",
            "receberam 1.842313284382763e-05\n",
            "relacao 0.00011760870167610378\n",
            "remedio 6.905064815100515e-05\n",
            "resultado 0.00011717414258374228\n",
            "resultados 3.194730950735688e-05\n",
            "rio 1.0881146935865454e-05\n",
            "risada 0.00010410883955778484\n",
            "rosto_pensativo 8.21039479233556e-05\n",
            "russa 0.0002778406691507867\n",
            "sabem 0.0001502265461064392\n",
            "salva 1.4109887810659765e-05\n",
            "sao 0.0005096888590590988\n",
            "saude 1.1132544396932979e-05\n",
            "segunda 1.4071883895786888e-05\n",
            "sei 0.00011886280997150874\n",
            "ser 0.001732471768418628\n",
            "serve 5.359572816411029e-05\n",
            "sistema 3.706215179160125e-05\n",
            "so 0.00011431117076601625\n",
            "sobre 0.00019979481686845723\n",
            "spray 0.4324449391852849\n",
            "sprays 0.0010675290223597677\n",
            "ta 0.001096679753891208\n",
            "tambem 0.00014577935478993345\n",
            "tanta 0.00011548841121078865\n",
            "tbm 0.00014785811128164425\n",
            "tempo 0.0006483656800368682\n",
            "ter 9.174154386522239e-05\n",
            "testada 0.00054131725180581\n",
            "testado 0.0032601864207986156\n",
            "testando 1.3575595034565757e-05\n",
            "testar 2.8661731170106125e-05\n",
            "testes 7.139177058860822e-05\n",
            "toda 6.656294860154839e-05\n",
            "todas 0.0001414094701821902\n",
            "todo 0.0002351710199326751\n",
            "tomou 0.0004935008078356447\n",
            "total 3.587870595857397e-05\n",
            "tratamento 9.322256071780247e-05\n",
            "tratar 1.7874726575636243e-05\n",
            "trazer 4.8105712082873394e-05\n",
            "troca 0.00028620049032208726\n",
            "usando 0.00030627490296348126\n",
            "usar 0.00013144356668663815\n",
            "vachina 0.040302287124851906\n",
            "vacinacao 1.3313295304066781e-05\n",
            "vacinada 5.606989131146861e-05\n",
            "vacinado 0.00036993235452628827\n",
            "vacinando 0.0017384831168744577\n",
            "vacinas 0.0009374144703380735\n",
            "vacinou 0.0009836787805825797\n",
            "vagabundo 0.0001542623420061197\n",
            "vai 0.0013217277025574655\n",
            "vamos 0.0006847878752446442\n",
            "vao 0.00031343603021141876\n",
            "vc 0.0002345201388680788\n",
            "vcs 0.00011193165937772027\n",
            "ver 0.00027187263168291896\n",
            "verdade 0.00026143151958063786\n",
            "vez 0.00021758103965988305\n",
            "virus 3.961748355966924e-05\n",
            "visto 4.402768394897146e-05\n",
            "voce 0.0005348602702320473\n",
            "vou 1.8288336603557722e-05\n"
          ],
          "name": "stdout"
        }
      ]
    },
    {
      "cell_type": "code",
      "metadata": {
        "colab": {
          "base_uri": "https://localhost:8080/"
        },
        "id": "wiCHvsXqVKJ_",
        "outputId": "99991550-c860-464f-a771-9301c86cf510"
      },
      "source": [
        "len(sem_importancia)"
      ],
      "execution_count": null,
      "outputs": [
        {
          "output_type": "execute_result",
          "data": {
            "text/plain": [
              "1226"
            ]
          },
          "metadata": {
            "tags": []
          },
          "execution_count": 22
        }
      ]
    },
    {
      "cell_type": "code",
      "metadata": {
        "colab": {
          "base_uri": "https://localhost:8080/"
        },
        "id": "tbeNFOvuVKKA",
        "outputId": "cb17b7e8-d7f1-49c2-d482-abb265ae98f5"
      },
      "source": [
        "from sklearn.metrics import accuracy_score\n",
        "accuracy_score(y_test, predicted)"
      ],
      "execution_count": null,
      "outputs": [
        {
          "output_type": "execute_result",
          "data": {
            "text/plain": [
              "0.9383838383838384"
            ]
          },
          "metadata": {
            "tags": []
          },
          "execution_count": 23
        }
      ]
    },
    {
      "cell_type": "markdown",
      "metadata": {
        "id": "3ppCn6ozVKKA"
      },
      "source": [
        "## Classificando tweets de outras datas"
      ]
    },
    {
      "cell_type": "code",
      "metadata": {
        "id": "7P9em_3vVKKA"
      },
      "source": [
        "source_file = '/content/drive/MyDrive/Colab Notebooks/Vacina/Processed/tweets_vacina.parquet'"
      ],
      "execution_count": null,
      "outputs": []
    },
    {
      "cell_type": "code",
      "metadata": {
        "colab": {
          "base_uri": "https://localhost:8080/",
          "height": 510
        },
        "id": "k5gGRlgaVKKB",
        "outputId": "e26f188c-6114-4062-e58c-fecb5856dfe8"
      },
      "source": [
        "new_data = pandas.read_parquet(source_file)\n",
        "print('data shape:', new_data.shape)\n",
        "print('data columns:', new_data.columns.tolist())\n",
        "new_data.head()"
      ],
      "execution_count": null,
      "outputs": [
        {
          "output_type": "stream",
          "text": [
            "data shape: (1841476, 17)\n",
            "data columns: ['conversation_id', 'date', 'time', 'timezone', 'user_id', 'tweet', 'language', 'mentions', 'urls', 'replies_count', 'retweets_count', 'likes_count', 'hashtags', 'cashtags', 'link', 'quote_url', 'thumbnail']\n"
          ],
          "name": "stdout"
        },
        {
          "output_type": "execute_result",
          "data": {
            "text/html": [
              "<div>\n",
              "<style scoped>\n",
              "    .dataframe tbody tr th:only-of-type {\n",
              "        vertical-align: middle;\n",
              "    }\n",
              "\n",
              "    .dataframe tbody tr th {\n",
              "        vertical-align: top;\n",
              "    }\n",
              "\n",
              "    .dataframe thead th {\n",
              "        text-align: right;\n",
              "    }\n",
              "</style>\n",
              "<table border=\"1\" class=\"dataframe\">\n",
              "  <thead>\n",
              "    <tr style=\"text-align: right;\">\n",
              "      <th></th>\n",
              "      <th>conversation_id</th>\n",
              "      <th>date</th>\n",
              "      <th>time</th>\n",
              "      <th>timezone</th>\n",
              "      <th>user_id</th>\n",
              "      <th>tweet</th>\n",
              "      <th>language</th>\n",
              "      <th>mentions</th>\n",
              "      <th>urls</th>\n",
              "      <th>replies_count</th>\n",
              "      <th>retweets_count</th>\n",
              "      <th>likes_count</th>\n",
              "      <th>hashtags</th>\n",
              "      <th>cashtags</th>\n",
              "      <th>link</th>\n",
              "      <th>quote_url</th>\n",
              "      <th>thumbnail</th>\n",
              "    </tr>\n",
              "    <tr>\n",
              "      <th>id</th>\n",
              "      <th></th>\n",
              "      <th></th>\n",
              "      <th></th>\n",
              "      <th></th>\n",
              "      <th></th>\n",
              "      <th></th>\n",
              "      <th></th>\n",
              "      <th></th>\n",
              "      <th></th>\n",
              "      <th></th>\n",
              "      <th></th>\n",
              "      <th></th>\n",
              "      <th></th>\n",
              "      <th></th>\n",
              "      <th></th>\n",
              "      <th></th>\n",
              "      <th></th>\n",
              "    </tr>\n",
              "  </thead>\n",
              "  <tbody>\n",
              "    <tr>\n",
              "      <th>1356029459929903104</th>\n",
              "      <td>1355512142540242946</td>\n",
              "      <td>2021-01-31</td>\n",
              "      <td>23:59:51</td>\n",
              "      <td>0</td>\n",
              "      <td>762508238</td>\n",
              "      <td>@samuelcorradi @EspecialThiago @nahh_menezes @...</td>\n",
              "      <td>pt</td>\n",
              "      <td>[]</td>\n",
              "      <td>[]</td>\n",
              "      <td>0</td>\n",
              "      <td>0</td>\n",
              "      <td>0</td>\n",
              "      <td>[]</td>\n",
              "      <td>[]</td>\n",
              "      <td>https://twitter.com/PinhaGabriel_/status/13560...</td>\n",
              "      <td>None</td>\n",
              "      <td>None</td>\n",
              "    </tr>\n",
              "    <tr>\n",
              "      <th>1356029449570054145</th>\n",
              "      <td>1356024186041458689</td>\n",
              "      <td>2021-01-31</td>\n",
              "      <td>23:59:49</td>\n",
              "      <td>0</td>\n",
              "      <td>107386226</td>\n",
              "      <td>@MhelMarrer @tiao_maciel Ele é anti vacina?  c...</td>\n",
              "      <td>pt</td>\n",
              "      <td>[]</td>\n",
              "      <td>[]</td>\n",
              "      <td>1</td>\n",
              "      <td>0</td>\n",
              "      <td>1</td>\n",
              "      <td>[]</td>\n",
              "      <td>[]</td>\n",
              "      <td>https://twitter.com/JohnnyKleber/status/135602...</td>\n",
              "      <td>None</td>\n",
              "      <td>None</td>\n",
              "    </tr>\n",
              "    <tr>\n",
              "      <th>1356029447116349447</th>\n",
              "      <td>1356024875941588997</td>\n",
              "      <td>2021-01-31</td>\n",
              "      <td>23:59:48</td>\n",
              "      <td>0</td>\n",
              "      <td>906659181310210049</td>\n",
              "      <td>@reinaldoazevedo Não custa lembrar. Há variant...</td>\n",
              "      <td>pt</td>\n",
              "      <td>[]</td>\n",
              "      <td>[]</td>\n",
              "      <td>0</td>\n",
              "      <td>0</td>\n",
              "      <td>1</td>\n",
              "      <td>[]</td>\n",
              "      <td>[]</td>\n",
              "      <td>https://twitter.com/Verdades_br_/status/135602...</td>\n",
              "      <td>None</td>\n",
              "      <td>None</td>\n",
              "    </tr>\n",
              "    <tr>\n",
              "      <th>1356029439138811904</th>\n",
              "      <td>1351551195421286403</td>\n",
              "      <td>2021-01-31</td>\n",
              "      <td>23:59:46</td>\n",
              "      <td>0</td>\n",
              "      <td>1190109819891601408</td>\n",
              "      <td>deve ser um dos sintomas da vacina 🤯 KSKSKSKSKS</td>\n",
              "      <td>pt</td>\n",
              "      <td>[]</td>\n",
              "      <td>[]</td>\n",
              "      <td>0</td>\n",
              "      <td>0</td>\n",
              "      <td>0</td>\n",
              "      <td>[]</td>\n",
              "      <td>[]</td>\n",
              "      <td>https://twitter.com/pepman0/status/13560294391...</td>\n",
              "      <td>None</td>\n",
              "      <td>None</td>\n",
              "    </tr>\n",
              "    <tr>\n",
              "      <th>1356029421954727938</th>\n",
              "      <td>1356029421954727938</td>\n",
              "      <td>2021-01-31</td>\n",
              "      <td>23:59:42</td>\n",
              "      <td>0</td>\n",
              "      <td>2303257579</td>\n",
              "      <td>SES-AM informa que aplicação da vacina é de re...</td>\n",
              "      <td>pt</td>\n",
              "      <td>[]</td>\n",
              "      <td>['https://bit.ly/3pASgoX']</td>\n",
              "      <td>0</td>\n",
              "      <td>0</td>\n",
              "      <td>0</td>\n",
              "      <td>[]</td>\n",
              "      <td>[]</td>\n",
              "      <td>https://twitter.com/PortaDeAmazonia/status/135...</td>\n",
              "      <td>None</td>\n",
              "      <td>None</td>\n",
              "    </tr>\n",
              "  </tbody>\n",
              "</table>\n",
              "</div>"
            ],
            "text/plain": [
              "                         conversation_id        date  ... quote_url  thumbnail\n",
              "id                                                    ...                     \n",
              "1356029459929903104  1355512142540242946  2021-01-31  ...      None       None\n",
              "1356029449570054145  1356024186041458689  2021-01-31  ...      None       None\n",
              "1356029447116349447  1356024875941588997  2021-01-31  ...      None       None\n",
              "1356029439138811904  1351551195421286403  2021-01-31  ...      None       None\n",
              "1356029421954727938  1356029421954727938  2021-01-31  ...      None       None\n",
              "\n",
              "[5 rows x 17 columns]"
            ]
          },
          "metadata": {
            "tags": []
          },
          "execution_count": 25
        }
      ]
    },
    {
      "cell_type": "code",
      "metadata": {
        "colab": {
          "base_uri": "https://localhost:8080/"
        },
        "id": "nuuH4pq7VKKB",
        "outputId": "7a3f3f33-3501-4f92-98e6-c179cd2d4db6"
      },
      "source": [
        "vectorizer_tfidf = TfidfVectorizer(stop_words=stopwords, tokenizer=stemming_tokenizer, max_df=0.99, min_df=0.001, max_features=1500)\n",
        "X1 = vectorizer_tfidf.fit_transform(new_data.tweet.values.tolist())\n",
        "vocab = np.array(vectorizer_tfidf.get_feature_names())"
      ],
      "execution_count": null,
      "outputs": [
        {
          "output_type": "stream",
          "text": [
            "/usr/local/lib/python3.7/dist-packages/sklearn/feature_extraction/text.py:385: UserWarning: Your stop_words may be inconsistent with your preprocessing. Tokenizing the stop words generated tokens ['ate', 'eramos', 'estao', 'estavamos', 'estiveramos', 'estivessemos', 'foramos', 'fossemos', 'ha', 'hao', 'houveramos', 'houverao', 'houveriamos', 'houvessemos', 'ja', 'nao', 'sao', 'sera', 'serao', 'seriamos', 'so', 'tambem', 'tera', 'terao', 'teriamos', 'tinhamos', 'tiveramos', 'tivessemos', 'voce', 'voces'] not in stop_words.\n",
            "  'stop_words.' % sorted(inconsistent))\n"
          ],
          "name": "stderr"
        }
      ]
    },
    {
      "cell_type": "code",
      "metadata": {
        "colab": {
          "base_uri": "https://localhost:8080/"
        },
        "id": "jlhv_W92VKKC",
        "outputId": "e8a49b05-8f5e-4dd6-e7e2-309bfbe01a2e"
      },
      "source": [
        "X1.shape"
      ],
      "execution_count": null,
      "outputs": [
        {
          "output_type": "execute_result",
          "data": {
            "text/plain": [
              "(1841476, 1500)"
            ]
          },
          "metadata": {
            "tags": []
          },
          "execution_count": 27
        }
      ]
    },
    {
      "cell_type": "code",
      "metadata": {
        "colab": {
          "base_uri": "https://localhost:8080/"
        },
        "id": "E3yhhrDRVKKC",
        "outputId": "737d15ce-77a4-4827-a473-7cdef40b8e1c"
      },
      "source": [
        "Y1 = m.predict(X1)\n",
        "Y1"
      ],
      "execution_count": null,
      "outputs": [
        {
          "output_type": "execute_result",
          "data": {
            "text/plain": [
              "array([0, 0, 0, ..., 0, 0, 0])"
            ]
          },
          "metadata": {
            "tags": []
          },
          "execution_count": 28
        }
      ]
    },
    {
      "cell_type": "markdown",
      "metadata": {
        "id": "ZxMY0pPpIBCr"
      },
      "source": [
        "Adicionando a previsão ao Data Frame"
      ]
    },
    {
      "cell_type": "code",
      "metadata": {
        "colab": {
          "base_uri": "https://localhost:8080/",
          "height": 827
        },
        "id": "tsRhtFR9VKKD",
        "outputId": "229794a4-104e-43a4-c4b3-d1b533833cb2"
      },
      "source": [
        "new_data['Antivax'] = Y1\n",
        "new_data"
      ],
      "execution_count": null,
      "outputs": [
        {
          "output_type": "execute_result",
          "data": {
            "text/html": [
              "<div>\n",
              "<style scoped>\n",
              "    .dataframe tbody tr th:only-of-type {\n",
              "        vertical-align: middle;\n",
              "    }\n",
              "\n",
              "    .dataframe tbody tr th {\n",
              "        vertical-align: top;\n",
              "    }\n",
              "\n",
              "    .dataframe thead th {\n",
              "        text-align: right;\n",
              "    }\n",
              "</style>\n",
              "<table border=\"1\" class=\"dataframe\">\n",
              "  <thead>\n",
              "    <tr style=\"text-align: right;\">\n",
              "      <th></th>\n",
              "      <th>conversation_id</th>\n",
              "      <th>date</th>\n",
              "      <th>time</th>\n",
              "      <th>timezone</th>\n",
              "      <th>user_id</th>\n",
              "      <th>tweet</th>\n",
              "      <th>language</th>\n",
              "      <th>mentions</th>\n",
              "      <th>urls</th>\n",
              "      <th>replies_count</th>\n",
              "      <th>retweets_count</th>\n",
              "      <th>likes_count</th>\n",
              "      <th>hashtags</th>\n",
              "      <th>cashtags</th>\n",
              "      <th>link</th>\n",
              "      <th>quote_url</th>\n",
              "      <th>thumbnail</th>\n",
              "      <th>Antivax</th>\n",
              "    </tr>\n",
              "    <tr>\n",
              "      <th>id</th>\n",
              "      <th></th>\n",
              "      <th></th>\n",
              "      <th></th>\n",
              "      <th></th>\n",
              "      <th></th>\n",
              "      <th></th>\n",
              "      <th></th>\n",
              "      <th></th>\n",
              "      <th></th>\n",
              "      <th></th>\n",
              "      <th></th>\n",
              "      <th></th>\n",
              "      <th></th>\n",
              "      <th></th>\n",
              "      <th></th>\n",
              "      <th></th>\n",
              "      <th></th>\n",
              "      <th></th>\n",
              "    </tr>\n",
              "  </thead>\n",
              "  <tbody>\n",
              "    <tr>\n",
              "      <th>1356029459929903104</th>\n",
              "      <td>1355512142540242946</td>\n",
              "      <td>2021-01-31</td>\n",
              "      <td>23:59:51</td>\n",
              "      <td>0</td>\n",
              "      <td>762508238</td>\n",
              "      <td>@samuelcorradi @EspecialThiago @nahh_menezes @...</td>\n",
              "      <td>pt</td>\n",
              "      <td>[]</td>\n",
              "      <td>[]</td>\n",
              "      <td>0</td>\n",
              "      <td>0</td>\n",
              "      <td>0</td>\n",
              "      <td>[]</td>\n",
              "      <td>[]</td>\n",
              "      <td>https://twitter.com/PinhaGabriel_/status/13560...</td>\n",
              "      <td>None</td>\n",
              "      <td>None</td>\n",
              "      <td>0</td>\n",
              "    </tr>\n",
              "    <tr>\n",
              "      <th>1356029449570054145</th>\n",
              "      <td>1356024186041458689</td>\n",
              "      <td>2021-01-31</td>\n",
              "      <td>23:59:49</td>\n",
              "      <td>0</td>\n",
              "      <td>107386226</td>\n",
              "      <td>@MhelMarrer @tiao_maciel Ele é anti vacina?  c...</td>\n",
              "      <td>pt</td>\n",
              "      <td>[]</td>\n",
              "      <td>[]</td>\n",
              "      <td>1</td>\n",
              "      <td>0</td>\n",
              "      <td>1</td>\n",
              "      <td>[]</td>\n",
              "      <td>[]</td>\n",
              "      <td>https://twitter.com/JohnnyKleber/status/135602...</td>\n",
              "      <td>None</td>\n",
              "      <td>None</td>\n",
              "      <td>0</td>\n",
              "    </tr>\n",
              "    <tr>\n",
              "      <th>1356029447116349447</th>\n",
              "      <td>1356024875941588997</td>\n",
              "      <td>2021-01-31</td>\n",
              "      <td>23:59:48</td>\n",
              "      <td>0</td>\n",
              "      <td>906659181310210049</td>\n",
              "      <td>@reinaldoazevedo Não custa lembrar. Há variant...</td>\n",
              "      <td>pt</td>\n",
              "      <td>[]</td>\n",
              "      <td>[]</td>\n",
              "      <td>0</td>\n",
              "      <td>0</td>\n",
              "      <td>1</td>\n",
              "      <td>[]</td>\n",
              "      <td>[]</td>\n",
              "      <td>https://twitter.com/Verdades_br_/status/135602...</td>\n",
              "      <td>None</td>\n",
              "      <td>None</td>\n",
              "      <td>0</td>\n",
              "    </tr>\n",
              "    <tr>\n",
              "      <th>1356029439138811904</th>\n",
              "      <td>1351551195421286403</td>\n",
              "      <td>2021-01-31</td>\n",
              "      <td>23:59:46</td>\n",
              "      <td>0</td>\n",
              "      <td>1190109819891601408</td>\n",
              "      <td>deve ser um dos sintomas da vacina 🤯 KSKSKSKSKS</td>\n",
              "      <td>pt</td>\n",
              "      <td>[]</td>\n",
              "      <td>[]</td>\n",
              "      <td>0</td>\n",
              "      <td>0</td>\n",
              "      <td>0</td>\n",
              "      <td>[]</td>\n",
              "      <td>[]</td>\n",
              "      <td>https://twitter.com/pepman0/status/13560294391...</td>\n",
              "      <td>None</td>\n",
              "      <td>None</td>\n",
              "      <td>0</td>\n",
              "    </tr>\n",
              "    <tr>\n",
              "      <th>1356029421954727938</th>\n",
              "      <td>1356029421954727938</td>\n",
              "      <td>2021-01-31</td>\n",
              "      <td>23:59:42</td>\n",
              "      <td>0</td>\n",
              "      <td>2303257579</td>\n",
              "      <td>SES-AM informa que aplicação da vacina é de re...</td>\n",
              "      <td>pt</td>\n",
              "      <td>[]</td>\n",
              "      <td>['https://bit.ly/3pASgoX']</td>\n",
              "      <td>0</td>\n",
              "      <td>0</td>\n",
              "      <td>0</td>\n",
              "      <td>[]</td>\n",
              "      <td>[]</td>\n",
              "      <td>https://twitter.com/PortaDeAmazonia/status/135...</td>\n",
              "      <td>None</td>\n",
              "      <td>None</td>\n",
              "      <td>0</td>\n",
              "    </tr>\n",
              "    <tr>\n",
              "      <th>...</th>\n",
              "      <td>...</td>\n",
              "      <td>...</td>\n",
              "      <td>...</td>\n",
              "      <td>...</td>\n",
              "      <td>...</td>\n",
              "      <td>...</td>\n",
              "      <td>...</td>\n",
              "      <td>...</td>\n",
              "      <td>...</td>\n",
              "      <td>...</td>\n",
              "      <td>...</td>\n",
              "      <td>...</td>\n",
              "      <td>...</td>\n",
              "      <td>...</td>\n",
              "      <td>...</td>\n",
              "      <td>...</td>\n",
              "      <td>...</td>\n",
              "      <td>...</td>\n",
              "    </tr>\n",
              "    <tr>\n",
              "      <th>1399485464038588420</th>\n",
              "      <td>1399485464038588420</td>\n",
              "      <td>2021-05-31</td>\n",
              "      <td>21:58:30</td>\n",
              "      <td>0</td>\n",
              "      <td>512344064</td>\n",
              "      <td>minha professora da extensão tomou a vacina hj...</td>\n",
              "      <td>pt</td>\n",
              "      <td>[]</td>\n",
              "      <td>[]</td>\n",
              "      <td>0</td>\n",
              "      <td>0</td>\n",
              "      <td>1</td>\n",
              "      <td>[]</td>\n",
              "      <td>[]</td>\n",
              "      <td>https://twitter.com/mortopool/status/139948546...</td>\n",
              "      <td>None</td>\n",
              "      <td>None</td>\n",
              "      <td>0</td>\n",
              "    </tr>\n",
              "    <tr>\n",
              "      <th>1399485455931002882</th>\n",
              "      <td>1399402006901559303</td>\n",
              "      <td>2021-05-31</td>\n",
              "      <td>21:58:28</td>\n",
              "      <td>0</td>\n",
              "      <td>48457681</td>\n",
              "      <td>@carlosjordy É pra Vc ver o tamanho da indigna...</td>\n",
              "      <td>pt</td>\n",
              "      <td>[]</td>\n",
              "      <td>[]</td>\n",
              "      <td>0</td>\n",
              "      <td>0</td>\n",
              "      <td>0</td>\n",
              "      <td>[]</td>\n",
              "      <td>[]</td>\n",
              "      <td>https://twitter.com/Jokitita/status/1399485455...</td>\n",
              "      <td>None</td>\n",
              "      <td>None</td>\n",
              "      <td>1</td>\n",
              "    </tr>\n",
              "    <tr>\n",
              "      <th>1399485446690947072</th>\n",
              "      <td>1399438151924563969</td>\n",
              "      <td>2021-05-31</td>\n",
              "      <td>21:58:26</td>\n",
              "      <td>0</td>\n",
              "      <td>1155549613589487616</td>\n",
              "      <td>@kyhcsyhsw Seu argumento é falso, porque vacin...</td>\n",
              "      <td>pt</td>\n",
              "      <td>[]</td>\n",
              "      <td>['https://oglobo.globo.com/sociedade/vacina/bo...</td>\n",
              "      <td>0</td>\n",
              "      <td>0</td>\n",
              "      <td>0</td>\n",
              "      <td>[]</td>\n",
              "      <td>[]</td>\n",
              "      <td>https://twitter.com/viniciussexto/status/13994...</td>\n",
              "      <td>None</td>\n",
              "      <td>None</td>\n",
              "      <td>0</td>\n",
              "    </tr>\n",
              "    <tr>\n",
              "      <th>1399485438692311049</th>\n",
              "      <td>1399433157972303878</td>\n",
              "      <td>2021-05-31</td>\n",
              "      <td>21:58:24</td>\n",
              "      <td>0</td>\n",
              "      <td>1246974881704685578</td>\n",
              "      <td>@senadorhumberto Ele está cagando para Covid e...</td>\n",
              "      <td>pt</td>\n",
              "      <td>[]</td>\n",
              "      <td>[]</td>\n",
              "      <td>0</td>\n",
              "      <td>0</td>\n",
              "      <td>1</td>\n",
              "      <td>[]</td>\n",
              "      <td>[]</td>\n",
              "      <td>https://twitter.com/MORTADELADetec1/status/139...</td>\n",
              "      <td>None</td>\n",
              "      <td>https://pbs.twimg.com/media/E2v4lqmWEAENews.jpg</td>\n",
              "      <td>0</td>\n",
              "    </tr>\n",
              "    <tr>\n",
              "      <th>1399485422091255814</th>\n",
              "      <td>1399418411441131529</td>\n",
              "      <td>2021-05-31</td>\n",
              "      <td>21:58:20</td>\n",
              "      <td>0</td>\n",
              "      <td>878678728662016001</td>\n",
              "      <td>@revistaoeste Ele vai invadir a casa das pesso...</td>\n",
              "      <td>pt</td>\n",
              "      <td>[]</td>\n",
              "      <td>[]</td>\n",
              "      <td>0</td>\n",
              "      <td>0</td>\n",
              "      <td>0</td>\n",
              "      <td>[]</td>\n",
              "      <td>[]</td>\n",
              "      <td>https://twitter.com/DitadorRei/status/13994854...</td>\n",
              "      <td>None</td>\n",
              "      <td>None</td>\n",
              "      <td>0</td>\n",
              "    </tr>\n",
              "  </tbody>\n",
              "</table>\n",
              "<p>1841476 rows × 18 columns</p>\n",
              "</div>"
            ],
            "text/plain": [
              "                         conversation_id  ... Antivax\n",
              "id                                        ...        \n",
              "1356029459929903104  1355512142540242946  ...       0\n",
              "1356029449570054145  1356024186041458689  ...       0\n",
              "1356029447116349447  1356024875941588997  ...       0\n",
              "1356029439138811904  1351551195421286403  ...       0\n",
              "1356029421954727938  1356029421954727938  ...       0\n",
              "...                                  ...  ...     ...\n",
              "1399485464038588420  1399485464038588420  ...       0\n",
              "1399485455931002882  1399402006901559303  ...       1\n",
              "1399485446690947072  1399438151924563969  ...       0\n",
              "1399485438692311049  1399433157972303878  ...       0\n",
              "1399485422091255814  1399418411441131529  ...       0\n",
              "\n",
              "[1841476 rows x 18 columns]"
            ]
          },
          "metadata": {
            "tags": []
          },
          "execution_count": 29
        }
      ]
    },
    {
      "cell_type": "markdown",
      "metadata": {
        "id": "Gn-t1ximRHf0"
      },
      "source": [
        "Verificando as avaliações"
      ]
    },
    {
      "cell_type": "code",
      "metadata": {
        "colab": {
          "base_uri": "https://localhost:8080/"
        },
        "id": "I_xcf7C2QCJy",
        "outputId": "5eaeb120-4c03-4633-b86d-616efb9b667d"
      },
      "source": [
        "favor = new_data[new_data['Antivax'] == 0]\n",
        "for tweet in favor['tweet'][:10]:\n",
        "  print(tweet)"
      ],
      "execution_count": null,
      "outputs": [
        {
          "output_type": "stream",
          "text": [
            "@samuelcorradi @EspecialThiago @nahh_menezes @VittorGuidoni @carolinelins Assim como empresas são boas em acumular. Mesmo pela vacina, os produtores de vacinas no Brasil (IB d Fiocruz)são estatais, e sem eles o acesso à vacina seria muito mais desigual e restrito do que está sendo. Economia lida indicies e percentuais, saúde pública lida com gente.\n",
            "@MhelMarrer @tiao_maciel Ele é anti vacina?  caralho.\n",
            "@reinaldoazevedo Não custa lembrar. Há variantes mais contagiosas do vírus circulando, poucas pessoas foram vacinadas até o momento, e os anticorpos demoram de 3-4 semanas para aparecerem depois da primeira dose da vacina.\n",
            "deve ser um dos sintomas da vacina 🤯 KSKSKSKSKS\n",
            "SES-AM informa que aplicação da vacina é de responsabilidade das secretarias municipais de saúde e alcança profissionais da saúde da rede pública e particular  https://t.co/KZvNpWisbF\n",
            "Clínicas privadas esperam vacina em abril, mas processo é longo e incerto  https://t.co/b4nw3HIjmi via @UOLNoticias @UOL  https://t.co/j4hHW7vxGE\n",
            "@cesarlobo @gilgil22 Que é o ponto positivo da aceleração.   O duro é que nosso Presidente lutou contra a vacina desde o início.\n",
            "Após denúncia de furar a fila da vacina contra a covid-19, coordenadores da Divisa em Santarém pedem exoneração.  https://t.co/1OroGVBVCm\n",
            "SES-AM informa que aplicação da vacina é de responsabilidade das secretarias municipais de saúde e alcança profissionais da saúde da rede pública e particular  https://t.co/aNzAYJkmzB\n",
            "@VEJA Fantástico. Só falta vacina, agulha seringa e principalmente pessoas que queiram tomar a vacina. E pelo jeito dos trogloditas bolsonaristas, dificilmente, alcançaremos 80% da população.\n"
          ],
          "name": "stdout"
        }
      ]
    },
    {
      "cell_type": "code",
      "metadata": {
        "colab": {
          "base_uri": "https://localhost:8080/"
        },
        "id": "222n0G0SRN0-",
        "outputId": "e516c5ed-4794-4c66-dc0e-36c81f285fd6"
      },
      "source": [
        "neutro = new_data[new_data['Antivax'] == 1]\n",
        "for tweet in neutro['tweet'][:10]:\n",
        "  print(tweet)"
      ],
      "execution_count": null,
      "outputs": [
        {
          "output_type": "stream",
          "text": [
            "@alan_20201 Essa que tá tomando a vacina é índia mesmo?\n",
            "@bamandrade Então concordo com vc a culpa são dos gestores, de quem tá organizando a \"fila da vacina\" agora q tá errado tá, pq eu trabalho na área e sei muito bem q os coitados das UBS e muitos outros órgãos não estão vacinando AINDA mesmo lidando diariamente com paciente.\n",
            "@LG3642 @liberdademedico É muita irresponsabilidade as besteiras que estão dizendo.   Estão querendo fazer parecer que alguem ta moendo fetos e colocando na vacina.  Quem nem o louco do Olavo fazia parecer sobre a Pepsi.\n",
            "@requiaopmdb Esse domingo tá pro @oatila tem jacaré, pato e vacina aplicada no peru 🦃 segundo o @emirsader.  https://t.co/HYQnCP3u3H\n",
            "Que vacina tomou aquela gente que tá no fantástico nesse momento?\n",
            "@UOLNoticias Tá certo o garoto, na Argentina tem vacina e presidente\n",
            "@EmillyLuh @BolsonaroSP Salvando que população animal? Com vacina de placebo e trancamento de comércio? Desvio de dinheiro de combate de Pandemia para usar em marketing? Aqui é gado sim, mas o chifre tá na tua cabeça desgraça!\n",
            "@kripuna Eu acho que ta longe essa vacina\n",
            "@JornalOGlobo Hipocrisia é estar lutando pra manter pessoas de risco em casa, pois depois de um ano tá todo mundo no seu limite, enquanto o prefeito tá dando rolezinho e servindo de exemplo pra essas pessoas quererem abandonar as restrições. Já não basta essa vacina que nunca chega, agr isso\n",
            "@theory0ffgun Meu filho nem tomou vacina e ta de boa. O filho:\n"
          ],
          "name": "stdout"
        }
      ]
    },
    {
      "cell_type": "code",
      "metadata": {
        "colab": {
          "base_uri": "https://localhost:8080/"
        },
        "id": "LwDjHyMERXrq",
        "outputId": "8a535a63-ce20-4476-a90e-1467134db807"
      },
      "source": [
        "anti = new_data[new_data['Antivax'] == 2]\n",
        "for tweet in anti['tweet'][:10]:\n",
        "  print(tweet)"
      ],
      "execution_count": null,
      "outputs": [
        {
          "output_type": "stream",
          "text": [
            "Vakinha pra gente comprar vacina, já que o Bolsonaro não comprou.\n",
            "Sinceramente acho que foi quando o armin morreu mas depois deram a vacina e isso, mano é que eu estava a ver enquanto lançavam então eu pensei msm que ele tinha morrido. E mds eu chorei tanto mas tanto que a minha irmã ficou a olhar pra mim tipo wtf\n",
            "Governo da PB lança site de cadastro de vacinação contra a Covid-19  O Vacina PB tem o intuito de notificar o cidadão quando iniciar a vacinação para o seu grupo. Nesta fase, é importante que os idosos sejam todos cadastrados na plataforma.   https://t.co/C36SwFpt5J  #VacinaPb\n",
            "“Faltam recursos para comprar vacina e são disponibilizados R$ 3 bilhões para que o governo possa influenciar a decisão dos deputados, constrangendo deputados. Eu confio na independência da Câmara.”  #EmfococomAndreiaSadi #Camaralivre #Democraciaviva\n",
            "quem me comprar um pastel vai ter lugar na fila p receber a vacina do corona   compartilhem!!!!! ⚠️⚠️⚠️\n",
            "@brasil247 Desgoverno NO BRASIL não tem dinheiro pra comprar a vacina e muito menos pra prorrogar o auxílio emergencial, mas tem dinheiro corrupto pra comprar deputados, IMPEACHMENT NELE JÁ ! GATUNAGEM NOS COFRES DO TESOURO NACIONAL  https://t.co/uPOo48Fmkt\n",
            "@em_com Desgoverno NO BRASIL não tem dinheiro pra comprar a vacina e muito menos pra prorrogar o auxílio emergencial, mas tem dinheiro corrupto pra comprar deputados, IMPEACHMENT NELE JÁ ! GATUNAGEM NOS COFRES DO TESOURO NACIONAL  https://t.co/xwK0zlhyBJ\n",
            "O @SinproPetro o SEPE realizaram um \"adesivaço\" nos carros, no sábado (30), em manifestação contra a volta às atividades presenciais nas escolas públicas e privadas antes q as professoras(es) e demais funcionários(as) tomem a vacina contra a covid #VacinaParaTodos\n",
            "@sulvinteum Desgoverno NO BRASIL não tem dinheiro pra comprar a vacina e muito menos pra prorrogar o auxílio emergencial, mas tem dinheiro corrupto pra comprar deputados, IMPEACHMENT NELE JÁ ! GATUNAGEM NOS COFRES DO TESOURO NACIONAL  https://t.co/MM7NsfnxLz\n",
            "@revistaforum Desgoverno NO BRASIL não tem dinheiro pra comprar a vacina e muito menos pra prorrogar o auxílio emergencial, mas tem dinheiro corrupto pra comprar deputados, IMPEACHMENT NELE JÁ ! GATUNAGEM NOS COFRES DO TESOURO NACIONAL  https://t.co/Fjb2dxilTB\n"
          ],
          "name": "stdout"
        }
      ]
    },
    {
      "cell_type": "markdown",
      "metadata": {
        "id": "2CYEe4QtRwYq"
      },
      "source": [
        "Convertendo a data para datetime, para trabalhar no gráfico"
      ]
    },
    {
      "cell_type": "code",
      "metadata": {
        "id": "SPLZVzHxVKKD"
      },
      "source": [
        "new_data['date'] = pandas.to_datetime(new_data['date'])"
      ],
      "execution_count": null,
      "outputs": []
    },
    {
      "cell_type": "markdown",
      "metadata": {
        "id": "_J34DkHLIMOn"
      },
      "source": [
        "Proporção da previsão"
      ]
    },
    {
      "cell_type": "code",
      "metadata": {
        "colab": {
          "base_uri": "https://localhost:8080/",
          "height": 292
        },
        "id": "7Bho1lScVKKE",
        "outputId": "cb82d2ff-0ef6-4cab-ed6f-f91a70023bdc"
      },
      "source": [
        "series1 = new_data['Antivax'].value_counts()\n",
        "ax = series1.plot(kind='bar', title='Number for each sentiment')\n",
        "ax.set_xlabel('Sentiment')\n",
        "ax.set_ylabel('Count')\n",
        "plt.show()"
      ],
      "execution_count": null,
      "outputs": [
        {
          "output_type": "display_data",
          "data": {
            "image/png": "[encoded data removed]",
            "text/plain": [
              "<Figure size 432x288 with 1 Axes>"
            ]
          },
          "metadata": {
            "tags": [],
            "needs_background": "light"
          }
        }
      ]
    },
    {
      "cell_type": "code",
      "metadata": {
        "colab": {
          "base_uri": "https://localhost:8080/"
        },
        "id": "HZ3DhVRZVKKF",
        "outputId": "c2f22b14-137d-44e2-a7a4-201a8b84de3d"
      },
      "source": [
        "series1"
      ],
      "execution_count": null,
      "outputs": [
        {
          "output_type": "execute_result",
          "data": {
            "text/plain": [
              "0    1664558\n",
              "1     143286\n",
              "2      33632\n",
              "Name: Antivax, dtype: int64"
            ]
          },
          "metadata": {
            "tags": []
          },
          "execution_count": 35
        }
      ]
    },
    {
      "cell_type": "markdown",
      "metadata": {
        "id": "H-d0JppxSAIj"
      },
      "source": [
        "Agregação por data e classificação"
      ]
    },
    {
      "cell_type": "code",
      "metadata": {
        "colab": {
          "base_uri": "https://localhost:8080/",
          "height": 419
        },
        "id": "ZuR_meaYVKKG",
        "outputId": "9af3dea7-c9c9-4649-81f4-80f1ffeac5ce"
      },
      "source": [
        "table = new_data.groupby([new_data['date'], 'Antivax'], as_index=False).agg(total=pandas.NamedAgg(column= 'Antivax', aggfunc='count'))\n",
        "table"
      ],
      "execution_count": null,
      "outputs": [
        {
          "output_type": "execute_result",
          "data": {
            "text/html": [
              "<div>\n",
              "<style scoped>\n",
              "    .dataframe tbody tr th:only-of-type {\n",
              "        vertical-align: middle;\n",
              "    }\n",
              "\n",
              "    .dataframe tbody tr th {\n",
              "        vertical-align: top;\n",
              "    }\n",
              "\n",
              "    .dataframe thead th {\n",
              "        text-align: right;\n",
              "    }\n",
              "</style>\n",
              "<table border=\"1\" class=\"dataframe\">\n",
              "  <thead>\n",
              "    <tr style=\"text-align: right;\">\n",
              "      <th></th>\n",
              "      <th>date</th>\n",
              "      <th>Antivax</th>\n",
              "      <th>total</th>\n",
              "    </tr>\n",
              "  </thead>\n",
              "  <tbody>\n",
              "    <tr>\n",
              "      <th>0</th>\n",
              "      <td>2021-01-29</td>\n",
              "      <td>0</td>\n",
              "      <td>15167</td>\n",
              "    </tr>\n",
              "    <tr>\n",
              "      <th>1</th>\n",
              "      <td>2021-01-29</td>\n",
              "      <td>1</td>\n",
              "      <td>964</td>\n",
              "    </tr>\n",
              "    <tr>\n",
              "      <th>2</th>\n",
              "      <td>2021-01-29</td>\n",
              "      <td>2</td>\n",
              "      <td>371</td>\n",
              "    </tr>\n",
              "    <tr>\n",
              "      <th>3</th>\n",
              "      <td>2021-01-30</td>\n",
              "      <td>0</td>\n",
              "      <td>11940</td>\n",
              "    </tr>\n",
              "    <tr>\n",
              "      <th>4</th>\n",
              "      <td>2021-01-30</td>\n",
              "      <td>1</td>\n",
              "      <td>825</td>\n",
              "    </tr>\n",
              "    <tr>\n",
              "      <th>...</th>\n",
              "      <td>...</td>\n",
              "      <td>...</td>\n",
              "      <td>...</td>\n",
              "    </tr>\n",
              "    <tr>\n",
              "      <th>97</th>\n",
              "      <td>2021-06-29</td>\n",
              "      <td>1</td>\n",
              "      <td>3900</td>\n",
              "    </tr>\n",
              "    <tr>\n",
              "      <th>98</th>\n",
              "      <td>2021-06-29</td>\n",
              "      <td>2</td>\n",
              "      <td>959</td>\n",
              "    </tr>\n",
              "    <tr>\n",
              "      <th>99</th>\n",
              "      <td>2021-06-30</td>\n",
              "      <td>0</td>\n",
              "      <td>82840</td>\n",
              "    </tr>\n",
              "    <tr>\n",
              "      <th>100</th>\n",
              "      <td>2021-06-30</td>\n",
              "      <td>1</td>\n",
              "      <td>6401</td>\n",
              "    </tr>\n",
              "    <tr>\n",
              "      <th>101</th>\n",
              "      <td>2021-06-30</td>\n",
              "      <td>2</td>\n",
              "      <td>1962</td>\n",
              "    </tr>\n",
              "  </tbody>\n",
              "</table>\n",
              "<p>102 rows × 3 columns</p>\n",
              "</div>"
            ],
            "text/plain": [
              "          date  Antivax  total\n",
              "0   2021-01-29        0  15167\n",
              "1   2021-01-29        1    964\n",
              "2   2021-01-29        2    371\n",
              "3   2021-01-30        0  11940\n",
              "4   2021-01-30        1    825\n",
              "..         ...      ...    ...\n",
              "97  2021-06-29        1   3900\n",
              "98  2021-06-29        2    959\n",
              "99  2021-06-30        0  82840\n",
              "100 2021-06-30        1   6401\n",
              "101 2021-06-30        2   1962\n",
              "\n",
              "[102 rows x 3 columns]"
            ]
          },
          "metadata": {
            "tags": []
          },
          "execution_count": 36
        }
      ]
    },
    {
      "cell_type": "code",
      "metadata": {
        "colab": {
          "base_uri": "https://localhost:8080/",
          "height": 1000
        },
        "id": "WUrUIWP_VKKJ",
        "outputId": "f779c647-8412-45ed-d536-4d1ce84afe87"
      },
      "source": [
        "class_by_date = table.pivot(index = 'date', columns = 'Antivax', values = 'total')\n",
        "class_by_date"
      ],
      "execution_count": null,
      "outputs": [
        {
          "output_type": "execute_result",
          "data": {
            "text/html": [
              "<div>\n",
              "<style scoped>\n",
              "    .dataframe tbody tr th:only-of-type {\n",
              "        vertical-align: middle;\n",
              "    }\n",
              "\n",
              "    .dataframe tbody tr th {\n",
              "        vertical-align: top;\n",
              "    }\n",
              "\n",
              "    .dataframe thead th {\n",
              "        text-align: right;\n",
              "    }\n",
              "</style>\n",
              "<table border=\"1\" class=\"dataframe\">\n",
              "  <thead>\n",
              "    <tr style=\"text-align: right;\">\n",
              "      <th>Antivax</th>\n",
              "      <th>0</th>\n",
              "      <th>1</th>\n",
              "      <th>2</th>\n",
              "    </tr>\n",
              "    <tr>\n",
              "      <th>date</th>\n",
              "      <th></th>\n",
              "      <th></th>\n",
              "      <th></th>\n",
              "    </tr>\n",
              "  </thead>\n",
              "  <tbody>\n",
              "    <tr>\n",
              "      <th>2021-01-29</th>\n",
              "      <td>15167</td>\n",
              "      <td>964</td>\n",
              "      <td>371</td>\n",
              "    </tr>\n",
              "    <tr>\n",
              "      <th>2021-01-30</th>\n",
              "      <td>11940</td>\n",
              "      <td>825</td>\n",
              "      <td>294</td>\n",
              "    </tr>\n",
              "    <tr>\n",
              "      <th>2021-01-31</th>\n",
              "      <td>9366</td>\n",
              "      <td>536</td>\n",
              "      <td>177</td>\n",
              "    </tr>\n",
              "    <tr>\n",
              "      <th>2021-05-31</th>\n",
              "      <td>4242</td>\n",
              "      <td>372</td>\n",
              "      <td>182</td>\n",
              "    </tr>\n",
              "    <tr>\n",
              "      <th>2021-06-01</th>\n",
              "      <td>32645</td>\n",
              "      <td>2663</td>\n",
              "      <td>726</td>\n",
              "    </tr>\n",
              "    <tr>\n",
              "      <th>2021-06-02</th>\n",
              "      <td>34570</td>\n",
              "      <td>2818</td>\n",
              "      <td>690</td>\n",
              "    </tr>\n",
              "    <tr>\n",
              "      <th>2021-06-03</th>\n",
              "      <td>26041</td>\n",
              "      <td>2397</td>\n",
              "      <td>466</td>\n",
              "    </tr>\n",
              "    <tr>\n",
              "      <th>2021-06-04</th>\n",
              "      <td>34294</td>\n",
              "      <td>3292</td>\n",
              "      <td>612</td>\n",
              "    </tr>\n",
              "    <tr>\n",
              "      <th>2021-06-05</th>\n",
              "      <td>28532</td>\n",
              "      <td>3055</td>\n",
              "      <td>542</td>\n",
              "    </tr>\n",
              "    <tr>\n",
              "      <th>2021-06-06</th>\n",
              "      <td>32754</td>\n",
              "      <td>3665</td>\n",
              "      <td>706</td>\n",
              "    </tr>\n",
              "    <tr>\n",
              "      <th>2021-06-07</th>\n",
              "      <td>56295</td>\n",
              "      <td>5953</td>\n",
              "      <td>1201</td>\n",
              "    </tr>\n",
              "    <tr>\n",
              "      <th>2021-06-08</th>\n",
              "      <td>55778</td>\n",
              "      <td>5657</td>\n",
              "      <td>1046</td>\n",
              "    </tr>\n",
              "    <tr>\n",
              "      <th>2021-06-09</th>\n",
              "      <td>67682</td>\n",
              "      <td>6219</td>\n",
              "      <td>1361</td>\n",
              "    </tr>\n",
              "    <tr>\n",
              "      <th>2021-06-10</th>\n",
              "      <td>72172</td>\n",
              "      <td>7128</td>\n",
              "      <td>1651</td>\n",
              "    </tr>\n",
              "    <tr>\n",
              "      <th>2021-06-11</th>\n",
              "      <td>88249</td>\n",
              "      <td>7980</td>\n",
              "      <td>1630</td>\n",
              "    </tr>\n",
              "    <tr>\n",
              "      <th>2021-06-12</th>\n",
              "      <td>47166</td>\n",
              "      <td>4393</td>\n",
              "      <td>907</td>\n",
              "    </tr>\n",
              "    <tr>\n",
              "      <th>2021-06-13</th>\n",
              "      <td>50197</td>\n",
              "      <td>4364</td>\n",
              "      <td>846</td>\n",
              "    </tr>\n",
              "    <tr>\n",
              "      <th>2021-06-14</th>\n",
              "      <td>67858</td>\n",
              "      <td>5606</td>\n",
              "      <td>1180</td>\n",
              "    </tr>\n",
              "    <tr>\n",
              "      <th>2021-06-15</th>\n",
              "      <td>67641</td>\n",
              "      <td>5573</td>\n",
              "      <td>1249</td>\n",
              "    </tr>\n",
              "    <tr>\n",
              "      <th>2021-06-16</th>\n",
              "      <td>66769</td>\n",
              "      <td>6091</td>\n",
              "      <td>1178</td>\n",
              "    </tr>\n",
              "    <tr>\n",
              "      <th>2021-06-17</th>\n",
              "      <td>55762</td>\n",
              "      <td>5321</td>\n",
              "      <td>888</td>\n",
              "    </tr>\n",
              "    <tr>\n",
              "      <th>2021-06-18</th>\n",
              "      <td>69902</td>\n",
              "      <td>6664</td>\n",
              "      <td>995</td>\n",
              "    </tr>\n",
              "    <tr>\n",
              "      <th>2021-06-19</th>\n",
              "      <td>54299</td>\n",
              "      <td>4553</td>\n",
              "      <td>1047</td>\n",
              "    </tr>\n",
              "    <tr>\n",
              "      <th>2021-06-20</th>\n",
              "      <td>43437</td>\n",
              "      <td>3220</td>\n",
              "      <td>894</td>\n",
              "    </tr>\n",
              "    <tr>\n",
              "      <th>2021-06-21</th>\n",
              "      <td>59622</td>\n",
              "      <td>4793</td>\n",
              "      <td>1276</td>\n",
              "    </tr>\n",
              "    <tr>\n",
              "      <th>2021-06-22</th>\n",
              "      <td>61429</td>\n",
              "      <td>4881</td>\n",
              "      <td>1231</td>\n",
              "    </tr>\n",
              "    <tr>\n",
              "      <th>2021-06-23</th>\n",
              "      <td>66052</td>\n",
              "      <td>5077</td>\n",
              "      <td>1722</td>\n",
              "    </tr>\n",
              "    <tr>\n",
              "      <th>2021-06-24</th>\n",
              "      <td>54317</td>\n",
              "      <td>4087</td>\n",
              "      <td>1276</td>\n",
              "    </tr>\n",
              "    <tr>\n",
              "      <th>2021-06-25</th>\n",
              "      <td>52550</td>\n",
              "      <td>4107</td>\n",
              "      <td>1123</td>\n",
              "    </tr>\n",
              "    <tr>\n",
              "      <th>2021-06-26</th>\n",
              "      <td>52971</td>\n",
              "      <td>4277</td>\n",
              "      <td>1314</td>\n",
              "    </tr>\n",
              "    <tr>\n",
              "      <th>2021-06-27</th>\n",
              "      <td>40138</td>\n",
              "      <td>2718</td>\n",
              "      <td>783</td>\n",
              "    </tr>\n",
              "    <tr>\n",
              "      <th>2021-06-28</th>\n",
              "      <td>51867</td>\n",
              "      <td>3736</td>\n",
              "      <td>1147</td>\n",
              "    </tr>\n",
              "    <tr>\n",
              "      <th>2021-06-29</th>\n",
              "      <td>50014</td>\n",
              "      <td>3900</td>\n",
              "      <td>959</td>\n",
              "    </tr>\n",
              "    <tr>\n",
              "      <th>2021-06-30</th>\n",
              "      <td>82840</td>\n",
              "      <td>6401</td>\n",
              "      <td>1962</td>\n",
              "    </tr>\n",
              "  </tbody>\n",
              "</table>\n",
              "</div>"
            ],
            "text/plain": [
              "Antivax         0     1     2\n",
              "date                         \n",
              "2021-01-29  15167   964   371\n",
              "2021-01-30  11940   825   294\n",
              "2021-01-31   9366   536   177\n",
              "2021-05-31   4242   372   182\n",
              "2021-06-01  32645  2663   726\n",
              "2021-06-02  34570  2818   690\n",
              "2021-06-03  26041  2397   466\n",
              "2021-06-04  34294  3292   612\n",
              "2021-06-05  28532  3055   542\n",
              "2021-06-06  32754  3665   706\n",
              "2021-06-07  56295  5953  1201\n",
              "2021-06-08  55778  5657  1046\n",
              "2021-06-09  67682  6219  1361\n",
              "2021-06-10  72172  7128  1651\n",
              "2021-06-11  88249  7980  1630\n",
              "2021-06-12  47166  4393   907\n",
              "2021-06-13  50197  4364   846\n",
              "2021-06-14  67858  5606  1180\n",
              "2021-06-15  67641  5573  1249\n",
              "2021-06-16  66769  6091  1178\n",
              "2021-06-17  55762  5321   888\n",
              "2021-06-18  69902  6664   995\n",
              "2021-06-19  54299  4553  1047\n",
              "2021-06-20  43437  3220   894\n",
              "2021-06-21  59622  4793  1276\n",
              "2021-06-22  61429  4881  1231\n",
              "2021-06-23  66052  5077  1722\n",
              "2021-06-24  54317  4087  1276\n",
              "2021-06-25  52550  4107  1123\n",
              "2021-06-26  52971  4277  1314\n",
              "2021-06-27  40138  2718   783\n",
              "2021-06-28  51867  3736  1147\n",
              "2021-06-29  50014  3900   959\n",
              "2021-06-30  82840  6401  1962"
            ]
          },
          "metadata": {
            "tags": []
          },
          "execution_count": 37
        }
      ]
    },
    {
      "cell_type": "code",
      "metadata": {
        "id": "NPx4SCT3IiE1"
      },
      "source": [
        "class_by_date.rename(columns = {0: 'favor', 1: 'neutro', 2: 'anti'}, inplace=True)"
      ],
      "execution_count": null,
      "outputs": []
    },
    {
      "cell_type": "code",
      "metadata": {
        "colab": {
          "base_uri": "https://localhost:8080/",
          "height": 353
        },
        "id": "fJpwV1_GLUD5",
        "outputId": "5e43f149-15e5-43bb-abed-e6cf00b07e20"
      },
      "source": [
        "plt.figure(figsize=(12,5))\n",
        "#class_by_date.plot()\n",
        "plt.plot(class_by_date)\n",
        "plt.legend([\"A favor\", \"Neutro\", \"Contra\"])\n",
        "plt.title('Evolução por data')"
      ],
      "execution_count": null,
      "outputs": [
        {
          "output_type": "execute_result",
          "data": {
            "text/plain": [
              "Text(0.5, 1.0, 'Evolução por data')"
            ]
          },
          "metadata": {
            "tags": []
          },
          "execution_count": 39
        },
        {
          "output_type": "display_data",
          "data": {
            "image/png": "[encoded data removed]",
            "text/plain": [
              "<Figure size 864x360 with 1 Axes>"
            ]
          },
          "metadata": {
            "tags": [],
            "needs_background": "light"
          }
        }
      ]
    },
    {
      "cell_type": "code",
      "metadata": {
        "id": "fffrKqNyLbeu"
      },
      "source": [
        ""
      ],
      "execution_count": null,
      "outputs": []
    }
  ]
}